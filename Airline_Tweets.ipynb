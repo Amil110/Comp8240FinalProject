{
 "cells": [
  {
   "cell_type": "code",
   "execution_count": 1,
   "metadata": {},
   "outputs": [],
   "source": [
    "import pandas as pd\n",
    "import numpy as np\n",
    "import fasttext\n",
    "import os\n",
    "import matplotlib.pyplot as plt\n",
    "import seaborn as sns\n",
    "import csv\n",
    "from gensim.utils import simple_preprocess\n",
    "pd.set_option('display.max_columns', None)\n",
    "pd.set_option('display.max_colwidth', None)"
   ]
  },
  {
   "cell_type": "code",
   "execution_count": 2,
   "metadata": {},
   "outputs": [
    {
     "data": {
      "text/html": [
       "<div>\n",
       "<style scoped>\n",
       "    .dataframe tbody tr th:only-of-type {\n",
       "        vertical-align: middle;\n",
       "    }\n",
       "\n",
       "    .dataframe tbody tr th {\n",
       "        vertical-align: top;\n",
       "    }\n",
       "\n",
       "    .dataframe thead th {\n",
       "        text-align: right;\n",
       "    }\n",
       "</style>\n",
       "<table border=\"1\" class=\"dataframe\">\n",
       "  <thead>\n",
       "    <tr style=\"text-align: right;\">\n",
       "      <th></th>\n",
       "      <th>airline_sentiment</th>\n",
       "      <th>text</th>\n",
       "    </tr>\n",
       "  </thead>\n",
       "  <tbody>\n",
       "    <tr>\n",
       "      <th>0</th>\n",
       "      <td>neutral</td>\n",
       "      <td>@VirginAmerica What @dhepburn said.</td>\n",
       "    </tr>\n",
       "    <tr>\n",
       "      <th>1</th>\n",
       "      <td>positive</td>\n",
       "      <td>@VirginAmerica plus you've added commercials to the experience... tacky.</td>\n",
       "    </tr>\n",
       "    <tr>\n",
       "      <th>2</th>\n",
       "      <td>neutral</td>\n",
       "      <td>@VirginAmerica I didn't today... Must mean I need to take another trip!</td>\n",
       "    </tr>\n",
       "    <tr>\n",
       "      <th>3</th>\n",
       "      <td>negative</td>\n",
       "      <td>@VirginAmerica it's really aggressive to blast obnoxious \"entertainment\" in your guests' faces &amp;amp; they have little recourse</td>\n",
       "    </tr>\n",
       "    <tr>\n",
       "      <th>4</th>\n",
       "      <td>negative</td>\n",
       "      <td>@VirginAmerica and it's a really big bad thing about it</td>\n",
       "    </tr>\n",
       "    <tr>\n",
       "      <th>...</th>\n",
       "      <td>...</td>\n",
       "      <td>...</td>\n",
       "    </tr>\n",
       "    <tr>\n",
       "      <th>14635</th>\n",
       "      <td>positive</td>\n",
       "      <td>@AmericanAir thank you we got on a different flight to Chicago.</td>\n",
       "    </tr>\n",
       "    <tr>\n",
       "      <th>14636</th>\n",
       "      <td>negative</td>\n",
       "      <td>@AmericanAir leaving over 20 minutes Late Flight. No warnings or communication until we were 15 minutes Late Flight. That's called shitty customer svc</td>\n",
       "    </tr>\n",
       "    <tr>\n",
       "      <th>14637</th>\n",
       "      <td>neutral</td>\n",
       "      <td>@AmericanAir Please bring American Airlines to #BlackBerry10</td>\n",
       "    </tr>\n",
       "    <tr>\n",
       "      <th>14638</th>\n",
       "      <td>negative</td>\n",
       "      <td>@AmericanAir you have my money, you change my flight, and don't answer your phones! Any other suggestions so I can make my commitment??</td>\n",
       "    </tr>\n",
       "    <tr>\n",
       "      <th>14639</th>\n",
       "      <td>neutral</td>\n",
       "      <td>@AmericanAir we have 8 ppl so we need 2 know how many seats are on the next flight. Plz put us on standby for 4 people on the next flight?</td>\n",
       "    </tr>\n",
       "  </tbody>\n",
       "</table>\n",
       "<p>14640 rows × 2 columns</p>\n",
       "</div>"
      ],
      "text/plain": [
       "      airline_sentiment  \\\n",
       "0               neutral   \n",
       "1              positive   \n",
       "2               neutral   \n",
       "3              negative   \n",
       "4              negative   \n",
       "...                 ...   \n",
       "14635          positive   \n",
       "14636          negative   \n",
       "14637           neutral   \n",
       "14638          negative   \n",
       "14639           neutral   \n",
       "\n",
       "                                                                                                                                                         text  \n",
       "0                                                                                                                         @VirginAmerica What @dhepburn said.  \n",
       "1                                                                                    @VirginAmerica plus you've added commercials to the experience... tacky.  \n",
       "2                                                                                     @VirginAmerica I didn't today... Must mean I need to take another trip!  \n",
       "3                              @VirginAmerica it's really aggressive to blast obnoxious \"entertainment\" in your guests' faces &amp; they have little recourse  \n",
       "4                                                                                                     @VirginAmerica and it's a really big bad thing about it  \n",
       "...                                                                                                                                                       ...  \n",
       "14635                                                                                         @AmericanAir thank you we got on a different flight to Chicago.  \n",
       "14636  @AmericanAir leaving over 20 minutes Late Flight. No warnings or communication until we were 15 minutes Late Flight. That's called shitty customer svc  \n",
       "14637                                                                                            @AmericanAir Please bring American Airlines to #BlackBerry10  \n",
       "14638                 @AmericanAir you have my money, you change my flight, and don't answer your phones! Any other suggestions so I can make my commitment??  \n",
       "14639              @AmericanAir we have 8 ppl so we need 2 know how many seats are on the next flight. Plz put us on standby for 4 people on the next flight?  \n",
       "\n",
       "[14640 rows x 2 columns]"
      ]
     },
     "execution_count": 2,
     "metadata": {},
     "output_type": "execute_result"
    }
   ],
   "source": [
    "# The file is opened using panda library\n",
    "\n",
    "h = pd.read_csv(\"Airline-Sentiment-2-w-AA.csv\")\n",
    "h = pd.DataFrame(h,columns=['airline_sentiment','text'])\n",
    "h"
   ]
  },
  {
   "cell_type": "code",
   "execution_count": 21,
   "metadata": {},
   "outputs": [
    {
     "data": {
      "text/plain": [
       "(14640, 2)"
      ]
     },
     "execution_count": 21,
     "metadata": {},
     "output_type": "execute_result"
    }
   ],
   "source": [
    "#looking for null values in the dataset\n",
    "\n",
    "h.isnull()\n",
    "#Since that a rating \"0\" means that the user hasn’t tried the recipe, I deleted that rating.\n",
    "h = h[h.airline_sentiment != 0]\n",
    "h.shape"
   ]
  },
  {
   "cell_type": "code",
   "execution_count": 4,
   "metadata": {},
   "outputs": [
    {
     "data": {
      "image/png": "[encoded data removed]",
      "text/plain": [
       "<Figure size 432x288 with 1 Axes>"
      ]
     },
     "metadata": {
      "needs_background": "light"
     },
     "output_type": "display_data"
    }
   ],
   "source": [
    "# plotting total ratings and provide an overall feedback\n",
    "\n",
    "cx = sns.countplot(x=\"airline_sentiment\", data=h)"
   ]
  },
  {
   "cell_type": "code",
   "execution_count": 5,
   "metadata": {},
   "outputs": [],
   "source": [
    "# pre-proccessing the dataset and take the selected column from the dataset \n",
    "rc = pd.DataFrame(h,columns=['airline_sentiment','text'])\n",
    "\n",
    "#droping null values from the dataset\n",
    "rc.dropna(subset = [\"text\"], inplace=True)\n",
    "rc.dropna(subset = [\"airline_sentiment\"], inplace=True)\n",
    "rc.to_csv('airline.csv')"
   ]
  },
  {
   "cell_type": "code",
   "execution_count": 6,
   "metadata": {},
   "outputs": [],
   "source": [
    "# Importing the dataset and labelling the dataset for fasttext recognition \n",
    "dataset = pd.read_csv('airline.csv')[['text', 'airline_sentiment']].rename(columns = {'text': 'texts', 'airline_sentiment': 'airline_sentiments'})\n",
    "#ds = pd.read_csv('valid.csv')[['Body', 'Y']].rename(columns = {'Body': 'questions', 'Y': 'category'})\n",
    "\n",
    "# NLP Preprocess is done to provide plain text except any signs and symbols\n",
    "dataset.iloc[:, 0] = dataset.iloc[:, 0].apply(lambda x: ' '.join(simple_preprocess(x)))\n",
    "\n",
    "\n",
    "# Prefixing each row of the category column with '__label__' which is necessary for processing and training\n",
    "dataset.iloc[:, 1] = dataset.iloc[:, 1].apply(lambda x: '__label__' + str(x))"
   ]
  },
  {
   "cell_type": "code",
   "execution_count": 7,
   "metadata": {},
   "outputs": [],
   "source": [
    "# saving the collected columns into a text file\n",
    "dataset[['airline_sentiments', 'texts']].to_csv('Airline_Review.txt', \n",
    "                                          index = False, \n",
    "                                          sep = ' ',\n",
    "                                          header = None, \n",
    "                                          quoting = csv.QUOTE_NONE, \n",
    "                                          quotechar = \"\", \n",
    "                                          escapechar = \" \")"
   ]
  },
  {
   "cell_type": "code",
   "execution_count": 22,
   "metadata": {},
   "outputs": [
    {
     "name": "stdout",
     "output_type": "stream",
     "text": [
      "__label__neutral virginamerica  what  dhepburn  said\n",
      "__label__positive virginamerica  plus  you  ve  added  commercials  to  the  experience  tacky\n",
      "__label__neutral virginamerica  didn  today  must  mean  need  to  take  another  trip\n",
      "__label__negative virginamerica  it  really  aggressive  to  blast  obnoxious  entertainment  in  your  guests  faces  amp  they  have  little  recourse\n",
      "__label__negative virginamerica  and  it  really  big  bad  thing  about  it\n",
      "__label__negative virginamerica  seriously  would  pay  flight  for  seats  that  didn  have  this  playing  it  really  the  only  bad  thing  about  flying  va\n",
      "__label__positive virginamerica  yes  nearly  every  time  fly  vx  this  ear  worm  won  go  away\n",
      "__label__neutral virginamerica  really  missed  prime  opportunity  for  men  without  hats  parody  there  https  co  mwpg  grezp\n",
      "__label__positive virginamerica  well  didn  now  do\n",
      "__label__positive virginamerica  it  was  amazing  and  arrived  an  hour  early  you  re  too  good  to  me\n"
     ]
    }
   ],
   "source": [
    "# Verifing to see if the text is saved properly\n",
    "!head Airline_Review.txt"
   ]
  },
  {
   "cell_type": "code",
   "execution_count": 8,
   "metadata": {},
   "outputs": [],
   "source": [
    "# Separating the text file into .train and .valid file\n",
    "!head -n 11640 Airline_Review.txt > airline.train\n",
    "!tail -n 3000 Airline_Review.txt > airline.valid"
   ]
  },
  {
   "cell_type": "code",
   "execution_count": 9,
   "metadata": {},
   "outputs": [],
   "source": [
    "# Creating a model using airline.train file\n",
    "model = fasttext.train_supervised(input=\"airline.train\")\n",
    "model.save_model(\"model_airline.bin\")"
   ]
  },
  {
   "cell_type": "code",
   "execution_count": 10,
   "metadata": {},
   "outputs": [
    {
     "data": {
      "text/plain": [
       "(('__label__neutral',), array([0.88354409]))"
      ]
     },
     "execution_count": 10,
     "metadata": {},
     "output_type": "execute_result"
    }
   ],
   "source": [
    "# Verifying to see if the training is done properly\n",
    "model.predict(\"@VirginAmerica I didn't today... Must mean I need to take another trip!\")"
   ]
  },
  {
   "cell_type": "code",
   "execution_count": 11,
   "metadata": {},
   "outputs": [
    {
     "data": {
      "text/plain": [
       "(3000, 0.8176666666666667, 0.8176666666666667)"
      ]
     },
     "execution_count": 11,
     "metadata": {},
     "output_type": "execute_result"
    }
   ],
   "source": [
    "# Verifying the airline.valid training\n",
    "model.test(\"airline.valid\")"
   ]
  },
  {
   "cell_type": "code",
   "execution_count": 12,
   "metadata": {},
   "outputs": [
    {
     "data": {
      "text/plain": [
       "(3000, 0.3333333333333333, 1.0)"
      ]
     },
     "execution_count": 12,
     "metadata": {},
     "output_type": "execute_result"
    }
   ],
   "source": [
    "# Verifying the rating of 5 tweets\n",
    "model.test(\"airline.valid\", k=5)"
   ]
  },
  {
   "cell_type": "code",
   "execution_count": 13,
   "metadata": {},
   "outputs": [],
   "source": [
    "# Pre-processing the dataset and pretraining without any symbols or signs\n",
    "!cat Airline_Review.txt  | sed -e \"s/\\([.\\!?,'/()]\\)/ \\1 /g\" | tr \"[:upper:]\" \"[:lower:]\" > Airline_Review.preprocessed.txt\n",
    "!head -n 11640 Airline_Review.preprocessed.txt > airline_Pre.train\n",
    "!tail -n 3000 Airline_Review.preprocessed.txt > airline_Pre.valid"
   ]
  },
  {
   "cell_type": "code",
   "execution_count": 14,
   "metadata": {},
   "outputs": [
    {
     "data": {
      "text/plain": [
       "(3000, 0.8183333333333334, 0.8183333333333334)"
      ]
     },
     "execution_count": 14,
     "metadata": {},
     "output_type": "execute_result"
    }
   ],
   "source": [
    "# Creating a model using airline_Pre.train file\n",
    "model = fasttext.train_supervised(input=\"airline_Pre.train\")\n",
    "model.test(\"airline_Pre.valid\")"
   ]
  },
  {
   "cell_type": "code",
   "execution_count": 15,
   "metadata": {},
   "outputs": [
    {
     "data": {
      "text/plain": [
       "(3000, 0.8006666666666666, 0.8006666666666666)"
      ]
     },
     "execution_count": 15,
     "metadata": {},
     "output_type": "execute_result"
    }
   ],
   "source": [
    "# Creating a model using airline_Pre.valid file while the value of epoch is 25\n",
    "model = fasttext.train_supervised(input=\"airline_Pre.train\", epoch=25)\n",
    "model.test(\"airline_Pre.valid\")"
   ]
  },
  {
   "cell_type": "code",
   "execution_count": 16,
   "metadata": {},
   "outputs": [
    {
     "data": {
      "text/plain": [
       "(3000, 0.815, 0.815)"
      ]
     },
     "execution_count": 16,
     "metadata": {},
     "output_type": "execute_result"
    }
   ],
   "source": [
    "# Creating a model using airline_Pre.valid file while the value of lr is 1\n",
    "model = fasttext.train_supervised(input=\"airline_Pre.train\", lr=1.0)\n",
    "model.test(\"airline_Pre.valid\")"
   ]
  },
  {
   "cell_type": "code",
   "execution_count": 17,
   "metadata": {},
   "outputs": [
    {
     "data": {
      "text/plain": [
       "(3000, 0.7733333333333333, 0.7733333333333333)"
      ]
     },
     "execution_count": 17,
     "metadata": {},
     "output_type": "execute_result"
    }
   ],
   "source": [
    "# Creating a model using airline_Pre.valid file while the value of epoch is 25 and lr is 1\n",
    "model = fasttext.train_supervised(input=\"airline_Pre.train\", lr=1.0, epoch=25)\n",
    "model.test(\"airline_Pre.valid\")"
   ]
  },
  {
   "cell_type": "code",
   "execution_count": 18,
   "metadata": {},
   "outputs": [
    {
     "data": {
      "text/plain": [
       "(3000, 0.814, 0.814)"
      ]
     },
     "execution_count": 18,
     "metadata": {},
     "output_type": "execute_result"
    }
   ],
   "source": [
    "# Creating a model using airline_Pre.valid file while the value of epoch is 25 and lr is 1 as a Bigram\n",
    "model = fasttext.train_supervised(input=\"airline_Pre.train\", lr=1.0, epoch=25, wordNgrams=2)\n",
    "model.test(\"airline_Pre.valid\")"
   ]
  },
  {
   "cell_type": "code",
   "execution_count": 19,
   "metadata": {},
   "outputs": [
    {
     "data": {
      "text/plain": [
       "(('__label__positive',), array([0.98288786]))"
      ]
     },
     "execution_count": 19,
     "metadata": {},
     "output_type": "execute_result"
    }
   ],
   "source": [
    "# Validating to see if the model works properly\n",
    "model.predict(\"I made the Mexican topping and took it to bunko. Everyone loved it.\")"
   ]
  },
  {
   "cell_type": "code",
   "execution_count": 20,
   "metadata": {},
   "outputs": [
    {
     "data": {
      "text/plain": [
       "(3000, 0.8146666666666667, 0.8146666666666667)"
      ]
     },
     "execution_count": 20,
     "metadata": {},
     "output_type": "execute_result"
    }
   ],
   "source": [
    "# Applying multi-label Classification\n",
    "model = fasttext.train_supervised(input=\"airline_Pre.train\", lr=0.5, epoch=25, wordNgrams=2, bucket=200000, dim=50, loss='ova')\n",
    "model.test(\"airline_Pre.valid\")\n",
    "# It is verified that even though it is a multi-label classification it has fair amount of accuracy"
   ]
  }
 ],
 "metadata": {
  "kernelspec": {
   "display_name": "Python 3",
   "language": "python",
   "name": "python3"
  },
  "language_info": {
   "codemirror_mode": {
    "name": "ipython",
    "version": 3
   },
   "file_extension": ".py",
   "mimetype": "text/x-python",
   "name": "python",
   "nbconvert_exporter": "python",
   "pygments_lexer": "ipython3",
   "version": "3.8.3"
  }
 },
 "nbformat": 4,
 "nbformat_minor": 5
}
